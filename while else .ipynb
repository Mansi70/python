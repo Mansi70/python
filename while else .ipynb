{
 "cells": [
  {
   "cell_type": "code",
   "execution_count": 1,
   "metadata": {},
   "outputs": [
    {
     "name": "stdout",
     "output_type": "stream",
     "text": [
      "Enter value16\n",
      "16.0 is not less than 5\n"
     ]
    }
   ],
   "source": [
    "value=float(input(\"Enter value\"))\n",
    "while value<5:\n",
    "    print(value,\"is less than 5\")\n",
    "    value=value+1\n",
    "else:\n",
    "    print(value,\"is not less than 5\")"
   ]
  }
 ],
 "metadata": {
  "kernelspec": {
   "display_name": "Python 3",
   "language": "python",
   "name": "python3"
  },
  "language_info": {
   "codemirror_mode": {
    "name": "ipython",
    "version": 3
   },
   "file_extension": ".py",
   "mimetype": "text/x-python",
   "name": "python",
   "nbconvert_exporter": "python",
   "pygments_lexer": "ipython3",
   "version": "3.7.0"
  }
 },
 "nbformat": 4,
 "nbformat_minor": 2
}
