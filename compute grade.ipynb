{
 "cells": [
  {
   "cell_type": "code",
   "execution_count": 2,
   "metadata": {},
   "outputs": [
    {
     "data": {
      "text/plain": [
       "'C:\\\\Users\\\\IBS'"
      ]
     },
     "execution_count": 2,
     "metadata": {},
     "output_type": "execute_result"
    }
   ],
   "source": [
    "pwd"
   ]
  },
  {
   "cell_type": "code",
   "execution_count": 3,
   "metadata": {},
   "outputs": [
    {
     "name": "stdout",
     "output_type": "stream",
     "text": [
      "Enter Score.6\n",
      "d\n"
     ]
    }
   ],
   "source": [
    "def computegrade(score):\n",
    "    if score>0 and score<1:\n",
    "        if score>=.9:\n",
    "            print('a')\n",
    "        elif score>=.8:\n",
    "            print(\"b\")\n",
    "        elif score>=.7:\n",
    "            print(\"c\")\n",
    "        elif score>=.6:\n",
    "            print(\"d\")\n",
    "        else:\n",
    "            print(\"Fail\")\n",
    "    else:\n",
    "        print(\"bad score\")\n",
    "        \n",
    "input_score=input(\"Enter Score\")\n",
    "try: \n",
    "    score=float(input_score) #here the r\n",
    "except:\n",
    "    print(\"Wrong input\")\n",
    "    quit()\n",
    "computegrade(score)"
   ]
  }
 ],
 "metadata": {
  "kernelspec": {
   "display_name": "Python 3",
   "language": "python",
   "name": "python3"
  },
  "language_info": {
   "codemirror_mode": {
    "name": "ipython",
    "version": 3
   },
   "file_extension": ".py",
   "mimetype": "text/x-python",
   "name": "python",
   "nbconvert_exporter": "python",
   "pygments_lexer": "ipython3",
   "version": "3.7.0"
  }
 },
 "nbformat": 4,
 "nbformat_minor": 2
}
