{
 "cells": [
  {
   "cell_type": "code",
   "execution_count": 1,
   "metadata": {},
   "outputs": [
    {
     "data": {
      "text/plain": [
       "'C:\\\\Users\\\\IBS'"
      ]
     },
     "execution_count": 1,
     "metadata": {},
     "output_type": "execute_result"
    }
   ],
   "source": [
    "pwd"
   ]
  },
  {
   "cell_type": "code",
   "execution_count": 3,
   "metadata": {},
   "outputs": [],
   "source": [
    "def fred():\n",
    "    print(\"Zap\")"
   ]
  },
  {
   "cell_type": "code",
   "execution_count": 5,
   "metadata": {},
   "outputs": [
    {
     "name": "stdout",
     "output_type": "stream",
     "text": [
      "Zap\n"
     ]
    }
   ],
   "source": [
    "fred()\n"
   ]
  },
  {
   "cell_type": "code",
   "execution_count": 8,
   "metadata": {},
   "outputs": [],
   "source": [
    "def jane():\n",
    "    print(\"abc\")"
   ]
  },
  {
   "cell_type": "code",
   "execution_count": 9,
   "metadata": {},
   "outputs": [
    {
     "name": "stdout",
     "output_type": "stream",
     "text": [
      "abc\n"
     ]
    }
   ],
   "source": [
    "jane()"
   ]
  },
  {
   "cell_type": "code",
   "execution_count": 16,
   "metadata": {},
   "outputs": [
    {
     "name": "stdout",
     "output_type": "stream",
     "text": [
      "Enter the number of hours45\n",
      "Enter rate10\n",
      "450.0\n"
     ]
    }
   ],
   "source": [
    "hours=float(input(\"Enter the number of hours\"))\n",
    "Rate=float(input(\"Enter rate\"))\n",
    "def computepay():\n",
    "    print(hours*Rate)\n",
    "computepay()"
   ]
  },
  {
   "cell_type": "code",
   "execution_count": 26,
   "metadata": {},
   "outputs": [
    {
     "name": "stdout",
     "output_type": "stream",
     "text": [
      "Enter hours45\n",
      "enter rate20\n",
      "pay 950.0\n"
     ]
    }
   ],
   "source": [
    "def computepay(hours,rate): #defining Variable\n",
    "    if hours<40:\n",
    "        pay=rate*hours\n",
    "    else:\n",
    "        pay=40*rate+1.5*(hours-40)*rate\n",
    "    print(\"pay\",pay)\n",
    "input_hours=input(\"Enter hours\") #User input of hours\n",
    "try:\n",
    "    hours=float(input_hours) #defining that value of hours should be in float\n",
    "except:\n",
    "    print(\"Error, please enter Numeric input\") #if value is not float then show error\n",
    "input_rate=input(\"enter rate\")\n",
    "try:\n",
    "    rate=float(input_rate) #same as hour\n",
    "except:\n",
    "    print(\"Error, Please enter Numeric value\")\n",
    "    quit() #to come out if error occurs\n",
    "computepay(hours,rate) #calling the function"
   ]
  },
  {
   "cell_type": "code",
   "execution_count": null,
   "metadata": {},
   "outputs": [],
   "source": []
  }
 ],
 "metadata": {
  "kernelspec": {
   "display_name": "Python 3",
   "language": "python",
   "name": "python3"
  },
  "language_info": {
   "codemirror_mode": {
    "name": "ipython",
    "version": 3
   },
   "file_extension": ".py",
   "mimetype": "text/x-python",
   "name": "python",
   "nbconvert_exporter": "python",
   "pygments_lexer": "ipython3",
   "version": "3.7.0"
  }
 },
 "nbformat": 4,
 "nbformat_minor": 2
}
